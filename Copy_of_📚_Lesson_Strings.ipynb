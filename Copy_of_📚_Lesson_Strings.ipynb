{
  "cells": [
    {
      "cell_type": "markdown",
      "metadata": {
        "id": "view-in-github",
        "colab_type": "text"
      },
      "source": [
        "<a href=\"https://colab.research.google.com/github/Buzhynskaya-Daria/Lesson---Strings/blob/main/Copy_of_%F0%9F%93%9A_Lesson_Strings.ipynb\" target=\"_parent\"><img src=\"https://colab.research.google.com/assets/colab-badge.svg\" alt=\"Open In Colab\"/></a>"
      ]
    },
    {
      "cell_type": "markdown",
      "metadata": {
        "id": "3E2D_PWb6BdA"
      },
      "source": [
        "<div>\n",
        "<img src=\"https://coursereport-s3-production.global.ssl.fastly.net/uploads/school/logo/219/original/CT_LOGO_NEW.jpg\" width=60>\n",
        "</div>\n",
        "\n",
        "#  **Strings**\n",
        "\n",
        "*Be sure to be following along with the lesson page before progressing in this notebook!*"
      ]
    },
    {
      "cell_type": "markdown",
      "source": [
        "## **🛝 Practice Playground** - Section 1\n",
        "In Python, strings are sequences of characters used to store and manipulate text. They are enclosed in quotes and can use either single quotes (') or double quotes (\"), allowing for flexibility depending on the content of the string itself."
      ],
      "metadata": {
        "id": "YOUiHU27y0mn"
      }
    },
    {
      "cell_type": "code",
      "execution_count": 1,
      "metadata": {
        "id": "ZvzqVRb86BdP",
        "colab": {
          "base_uri": "https://localhost:8080/",
          "height": 36
        },
        "outputId": "aae7b4de-01ea-471c-cc62-aa83221a11a0"
      },
      "outputs": [
        {
          "output_type": "execute_result",
          "data": {
            "text/plain": [
              "'Hello, world!'"
            ],
            "application/vnd.google.colaboratory.intrinsic+json": {
              "type": "string"
            }
          },
          "metadata": {},
          "execution_count": 1
        }
      ],
      "source": [
        "# Run this cell!\n",
        "\n",
        "'Hello, world!'"
      ]
    },
    {
      "cell_type": "code",
      "execution_count": 2,
      "metadata": {
        "id": "YbetqlU_6BdP",
        "colab": {
          "base_uri": "https://localhost:8080/"
        },
        "outputId": "d16eb016-a3cb-44bd-e45a-830b8d2cb15c"
      },
      "outputs": [
        {
          "output_type": "stream",
          "name": "stdout",
          "text": [
            "Hello, world!\n"
          ]
        }
      ],
      "source": [
        "# Run this cell!\n",
        "\n",
        "print('Hello, world!')"
      ]
    },
    {
      "cell_type": "code",
      "source": [
        "# Run this cell!\n",
        "\n",
        "print(\"Line one\\nLine two\")"
      ],
      "metadata": {
        "id": "COZbkLYTs56N",
        "colab": {
          "base_uri": "https://localhost:8080/"
        },
        "outputId": "e03551f7-7321-48bf-8382-89e34718f799"
      },
      "execution_count": 3,
      "outputs": [
        {
          "output_type": "stream",
          "name": "stdout",
          "text": [
            "Line one\n",
            "Line two\n"
          ]
        }
      ]
    },
    {
      "cell_type": "code",
      "source": [
        "# Run this cell!\n",
        "\n",
        "print(\"Name:\\tJohn\")"
      ],
      "metadata": {
        "id": "nqyQ50bQtpuW",
        "colab": {
          "base_uri": "https://localhost:8080/"
        },
        "outputId": "8b1fe4c5-e237-48e5-cea0-6ebcd0f988d3"
      },
      "execution_count": 4,
      "outputs": [
        {
          "output_type": "stream",
          "name": "stdout",
          "text": [
            "Name:\tJohn\n"
          ]
        }
      ]
    },
    {
      "cell_type": "code",
      "source": [
        "# Run this cell!\n",
        "\n",
        "# NOTE: You will receive an error because no escape character is used!\n",
        "# Python believes you are trying to end the sentence earlier than intended.\n",
        "\n",
        "print('It\\'s a sunny day.')"
      ],
      "metadata": {
        "id": "ZLe3ZOz7qQ3r",
        "colab": {
          "base_uri": "https://localhost:8080/"
        },
        "outputId": "45101ae6-babc-45b2-b2d4-7da10f376fd9"
      },
      "execution_count": 9,
      "outputs": [
        {
          "output_type": "stream",
          "name": "stdout",
          "text": [
            "It's a sunny day.\n"
          ]
        }
      ]
    },
    {
      "cell_type": "code",
      "source": [
        "# Run this cell!\n",
        "\n",
        "print('It\\'s a sunny day.')"
      ],
      "metadata": {
        "id": "Avxqm-Tds86J",
        "colab": {
          "base_uri": "https://localhost:8080/"
        },
        "outputId": "2eb322fa-c539-412d-c803-e84032244ed7"
      },
      "execution_count": 10,
      "outputs": [
        {
          "output_type": "stream",
          "name": "stdout",
          "text": [
            "It's a sunny day.\n"
          ]
        }
      ]
    },
    {
      "cell_type": "code",
      "source": [
        "# Run this cell!\n",
        "\n",
        "# NOTE: You will receive an error because no escape character is used!\n",
        "# Python believes you are trying to end the sentence earlier than intended.\n",
        "\n",
        "print(\"He said, \\\"Hello!\\\"\")"
      ],
      "metadata": {
        "id": "i871jVSQtfuw",
        "colab": {
          "base_uri": "https://localhost:8080/"
        },
        "outputId": "1f6741b2-744c-4df8-f571-20192998ddb6"
      },
      "execution_count": 12,
      "outputs": [
        {
          "output_type": "stream",
          "name": "stdout",
          "text": [
            "He said, \"Hello!\"\n"
          ]
        }
      ]
    },
    {
      "cell_type": "code",
      "source": [
        "# Run this cell!\n",
        "\n",
        "print(\"He said, \\\"Hello!\\\"\")"
      ],
      "metadata": {
        "id": "6-YXKtt4qPXV",
        "colab": {
          "base_uri": "https://localhost:8080/"
        },
        "outputId": "89e3f251-f636-4b16-f69a-8f9b7c553d38"
      },
      "execution_count": 13,
      "outputs": [
        {
          "output_type": "stream",
          "name": "stdout",
          "text": [
            "He said, \"Hello!\"\n"
          ]
        }
      ]
    },
    {
      "cell_type": "code",
      "source": [
        "# Run this cell!\n",
        "\n",
        "multi_line_string = \"\"\"This is a string that spans\n",
        "multiple lines. We can easily write text over several\n",
        "lines without using escape characters for new lines.\"\"\"\n",
        "print(multi_line_string)"
      ],
      "metadata": {
        "id": "d3W3xKqBqJtb",
        "colab": {
          "base_uri": "https://localhost:8080/"
        },
        "outputId": "e45a1b1f-a57b-43b8-ccc9-f98c9e5046b9"
      },
      "execution_count": 14,
      "outputs": [
        {
          "output_type": "stream",
          "name": "stdout",
          "text": [
            "This is a string that spans\n",
            "multiple lines. We can easily write text over several\n",
            "lines without using escape characters for new lines.\n"
          ]
        }
      ]
    },
    {
      "cell_type": "markdown",
      "source": [
        "---"
      ],
      "metadata": {
        "id": "ysRhcsKft27B"
      }
    },
    {
      "cell_type": "markdown",
      "metadata": {
        "id": "gqQArSbM6BdE"
      },
      "source": [
        "## **🛝 Practice Playground** - Section 2\n",
        "In Python, string manipulation is not only powerful but also intuitive, allowing you to perform a variety of operations that can modify and combine strings in useful ways. Understanding these operations will enable you to handle text data more effectively."
      ]
    },
    {
      "cell_type": "code",
      "execution_count": 15,
      "metadata": {
        "id": "GOd-KaSA6BdF",
        "colab": {
          "base_uri": "https://localhost:8080/",
          "height": 36
        },
        "outputId": "ab7872a9-af42-4a34-ad77-1b0ada1cd382"
      },
      "outputs": [
        {
          "output_type": "execute_result",
          "data": {
            "text/plain": [
              "'Hello, Alice!'"
            ],
            "application/vnd.google.colaboratory.intrinsic+json": {
              "type": "string"
            }
          },
          "metadata": {},
          "execution_count": 15
        }
      ],
      "source": [
        "# Run this cell!\n",
        "\n",
        "greeting = \"Hello\"\n",
        "name = \"Alice\"\n",
        "message = greeting + \", \" + name + \"!\"\n",
        "message"
      ]
    },
    {
      "cell_type": "code",
      "source": [
        "# Run this cell!\n",
        "\n",
        "laugh = \"Ha\"\n",
        "laugh * 10"
      ],
      "metadata": {
        "id": "yNq8jO0Ma3vW",
        "colab": {
          "base_uri": "https://localhost:8080/",
          "height": 36
        },
        "outputId": "3bd5eb57-0cec-4392-df32-51be2875958d"
      },
      "execution_count": 16,
      "outputs": [
        {
          "output_type": "execute_result",
          "data": {
            "text/plain": [
              "'HaHaHaHaHaHaHaHaHaHa'"
            ],
            "application/vnd.google.colaboratory.intrinsic+json": {
              "type": "string"
            }
          },
          "metadata": {},
          "execution_count": 16
        }
      ]
    },
    {
      "cell_type": "code",
      "execution_count": 17,
      "metadata": {
        "id": "hEro9QDR6BdH",
        "colab": {
          "base_uri": "https://localhost:8080/",
          "height": 36
        },
        "outputId": "7c6c98e2-64b6-48ff-c2d5-67a955c6c3f5"
      },
      "outputs": [
        {
          "output_type": "execute_result",
          "data": {
            "text/plain": [
              "'**********'"
            ],
            "application/vnd.google.colaboratory.intrinsic+json": {
              "type": "string"
            }
          },
          "metadata": {},
          "execution_count": 17
        }
      ],
      "source": [
        "# Run this cell!\n",
        "\n",
        "'*' * 10\n"
      ]
    },
    {
      "cell_type": "code",
      "execution_count": 18,
      "metadata": {
        "id": "7fyd91V46BdI",
        "colab": {
          "base_uri": "https://localhost:8080/"
        },
        "outputId": "31ed1e4b-57f1-45fb-c923-e6a973eceecc"
      },
      "outputs": [
        {
          "output_type": "stream",
          "name": "stdout",
          "text": [
            "         *\n",
            "        ***\n",
            "       *****\n",
            "      *******\n",
            "     *********\n",
            "    ***********\n",
            "   *************\n",
            "  ***************\n",
            " *****************\n",
            "*******************\n",
            "        |||\n",
            "        |||\n"
          ]
        }
      ],
      "source": [
        "# Run this cell!\n",
        "\n",
        "print(' ' * 9 + '*' * 1)\n",
        "print(' ' * 8 + '*' * 3)\n",
        "print(' ' * 7 + '*' * 5)\n",
        "print(' ' * 6 + '*' * 7)\n",
        "print(' ' * 5 + '*' * 9)\n",
        "print(' ' * 4 + '*' * 11)\n",
        "print(' ' * 3 + '*' * 13)\n",
        "print(' ' * 2 + '*' * 15)\n",
        "print(' ' * 1 + '*' * 17)\n",
        "print(' ' * 0 + '*' * 19)\n",
        "print(' ' * 8 + '|||')\n",
        "print(' ' * 8 + '|||')"
      ]
    },
    {
      "cell_type": "markdown",
      "source": [
        "---"
      ],
      "metadata": {
        "id": "J-WWpbFO6O8R"
      }
    },
    {
      "cell_type": "markdown",
      "metadata": {
        "id": "IUTVJ9086BdN"
      },
      "source": [
        "## **🛝 Practice Playground** - Section 3\n",
        "Python strings come equipped with numerous built-in methods that allow you to perform common tasks such as converting to uppercase, capitalizing, or replacing parts of the string."
      ]
    },
    {
      "cell_type": "code",
      "source": [
        "# Run this cell!\n",
        "\n",
        "quote = \"practice makes perfect\"\n",
        "print(quote.upper())\n",
        "print(quote.title())\n",
        "print(quote.lower())"
      ],
      "metadata": {
        "id": "umbbj9FtWct2",
        "colab": {
          "base_uri": "https://localhost:8080/"
        },
        "outputId": "7f90dc14-d45d-4327-dd8f-656b11163973"
      },
      "execution_count": 19,
      "outputs": [
        {
          "output_type": "stream",
          "name": "stdout",
          "text": [
            "PRACTICE MAKES PERFECT\n",
            "Practice Makes Perfect\n",
            "practice makes perfect\n"
          ]
        }
      ]
    },
    {
      "cell_type": "code",
      "source": [
        "# Run this cell!\n",
        "\n",
        "sentence = \"The weather is nice\"\n",
        "sentence.replace(\"nice\", \"wonderful\")"
      ],
      "metadata": {
        "id": "oPjFRvs-n1ob",
        "colab": {
          "base_uri": "https://localhost:8080/",
          "height": 36
        },
        "outputId": "32387a7f-2c1d-43ac-da7f-010456b66ab0"
      },
      "execution_count": 20,
      "outputs": [
        {
          "output_type": "execute_result",
          "data": {
            "text/plain": [
              "'The weather is wonderful'"
            ],
            "application/vnd.google.colaboratory.intrinsic+json": {
              "type": "string"
            }
          },
          "metadata": {},
          "execution_count": 20
        }
      ]
    },
    {
      "cell_type": "code",
      "source": [
        "# Run this cell!\n",
        "\n",
        "sentence = \"The weather is nice\"\n",
        "sentence.split(\" \")"
      ],
      "metadata": {
        "id": "vmmn95FtrtvM",
        "colab": {
          "base_uri": "https://localhost:8080/"
        },
        "outputId": "a025058f-fd82-40e8-976a-94ed6b59ef4b"
      },
      "execution_count": 21,
      "outputs": [
        {
          "output_type": "execute_result",
          "data": {
            "text/plain": [
              "['The', 'weather', 'is', 'nice']"
            ]
          },
          "metadata": {},
          "execution_count": 21
        }
      ]
    },
    {
      "cell_type": "code",
      "source": [
        "# Run this cell!\n",
        "\n",
        "# NOTE: The default is to split on a space! This is why this cell and the one above result in the same output.\n",
        "\n",
        "sentence = \"The weather is nice\"\n",
        "sentence.split()"
      ],
      "metadata": {
        "id": "KDcDxyd4r2SU",
        "colab": {
          "base_uri": "https://localhost:8080/"
        },
        "outputId": "a42e2a23-36ba-4188-9144-372d93080b4e"
      },
      "execution_count": 22,
      "outputs": [
        {
          "output_type": "execute_result",
          "data": {
            "text/plain": [
              "['The', 'weather', 'is', 'nice']"
            ]
          },
          "metadata": {},
          "execution_count": 22
        }
      ]
    },
    {
      "cell_type": "code",
      "source": [
        "# Run this cell!\n",
        "\n",
        "sentence = \"The weather is nice\"\n",
        "sentence.split(\"w\")"
      ],
      "metadata": {
        "id": "uN1hGq6Cr2z0",
        "colab": {
          "base_uri": "https://localhost:8080/"
        },
        "outputId": "1bf1c411-d0e3-4ef7-fb5a-c5472b6bd3e2"
      },
      "execution_count": 23,
      "outputs": [
        {
          "output_type": "execute_result",
          "data": {
            "text/plain": [
              "['The ', 'eather is nice']"
            ]
          },
          "metadata": {},
          "execution_count": 23
        }
      ]
    },
    {
      "cell_type": "markdown",
      "source": [
        "## **🛝 Practice Playground** - Section 4\n",
        "F-strings, introduced in Python 3.6, offer a highly readable way to embed expressions inside string literals directly. By using curly braces {}, you can incorporate variables, expressions, and formatted output seamlessly into your strings."
      ],
      "metadata": {
        "id": "zY7ApqpSrfAZ"
      }
    },
    {
      "cell_type": "code",
      "source": [
        "# Run this cell!\n",
        "\n",
        "name = \"Alice\"\n",
        "age = 30\n",
        "greeting = f\"Hello, my name is {name} and I am {age} years old.\"\n",
        "greeting"
      ],
      "metadata": {
        "id": "-T4awlzesqRW",
        "colab": {
          "base_uri": "https://localhost:8080/",
          "height": 36
        },
        "outputId": "dd945b2c-dac6-4fab-91ae-6064ed16e488"
      },
      "execution_count": 24,
      "outputs": [
        {
          "output_type": "execute_result",
          "data": {
            "text/plain": [
              "'Hello, my name is Alice and I am 30 years old.'"
            ],
            "application/vnd.google.colaboratory.intrinsic+json": {
              "type": "string"
            }
          },
          "metadata": {},
          "execution_count": 24
        }
      ]
    },
    {
      "cell_type": "code",
      "source": [
        "# Run this cell!\n",
        "\n",
        "hours = 8\n",
        "rate = 15.75\n",
        "pay = f\"Total pay: ${hours * rate}\"\n",
        "pay"
      ],
      "metadata": {
        "id": "HPaJbfCfsqPJ",
        "colab": {
          "base_uri": "https://localhost:8080/",
          "height": 36
        },
        "outputId": "68d6a74b-111d-4cc3-f2e6-336631447a43"
      },
      "execution_count": 25,
      "outputs": [
        {
          "output_type": "execute_result",
          "data": {
            "text/plain": [
              "'Total pay: $126.0'"
            ],
            "application/vnd.google.colaboratory.intrinsic+json": {
              "type": "string"
            }
          },
          "metadata": {},
          "execution_count": 25
        }
      ]
    },
    {
      "cell_type": "code",
      "source": [
        "# Run this cell!\n",
        "\n",
        "pi = 3.1415926535\n",
        "formatted_pi = f\"Pi rounded to two decimal places: {pi:.2f}\"\n",
        "formatted_pi"
      ],
      "metadata": {
        "id": "EfEzUAfXsqMC",
        "colab": {
          "base_uri": "https://localhost:8080/",
          "height": 36
        },
        "outputId": "dcad2e3e-aa5d-4d25-b098-42f3d442ea0e"
      },
      "execution_count": 26,
      "outputs": [
        {
          "output_type": "execute_result",
          "data": {
            "text/plain": [
              "'Pi rounded to two decimal places: 3.14'"
            ],
            "application/vnd.google.colaboratory.intrinsic+json": {
              "type": "string"
            }
          },
          "metadata": {},
          "execution_count": 26
        }
      ]
    },
    {
      "cell_type": "code",
      "source": [
        "# Run this cell!\n",
        "\n",
        "large_number = 1000000\n",
        "formatted_number = f\"Formatted number: {large_number:,}\"\n",
        "formatted_number"
      ],
      "metadata": {
        "id": "33OfXsrAsqJQ",
        "colab": {
          "base_uri": "https://localhost:8080/",
          "height": 36
        },
        "outputId": "5fb98454-5480-4088-f824-f40dd4af9e3e"
      },
      "execution_count": 27,
      "outputs": [
        {
          "output_type": "execute_result",
          "data": {
            "text/plain": [
              "'Formatted number: 1,000,000'"
            ],
            "application/vnd.google.colaboratory.intrinsic+json": {
              "type": "string"
            }
          },
          "metadata": {},
          "execution_count": 27
        }
      ]
    },
    {
      "cell_type": "code",
      "source": [
        "# Run this cell!\n",
        "\n",
        "quantity = 5\n",
        "formatted_quantity = f\"Quantity: {quantity:03d}\"\n",
        "formatted_quantity"
      ],
      "metadata": {
        "id": "vcNeUTyBs6FH",
        "colab": {
          "base_uri": "https://localhost:8080/",
          "height": 36
        },
        "outputId": "70635c65-bd51-45f5-ab26-bf3a9ff84a68"
      },
      "execution_count": 33,
      "outputs": [
        {
          "output_type": "execute_result",
          "data": {
            "text/plain": [
              "'Quantity: 005'"
            ],
            "application/vnd.google.colaboratory.intrinsic+json": {
              "type": "string"
            }
          },
          "metadata": {},
          "execution_count": 33
        }
      ]
    },
    {
      "cell_type": "markdown",
      "source": [
        "## **🛝 Practice Playground** - Section 5\n",
        "Strings in Python can be indexed using positive and negative numbers. Positive indices start from 0 at the beginning of the string, while negative indices start from -1 at the end."
      ],
      "metadata": {
        "id": "PHuMizeMtDdz"
      }
    },
    {
      "cell_type": "code",
      "source": [
        "# Run this cell!\n",
        "\n",
        "bootcamp = \"Coding Temple\"\n",
        "bootcamp[0]"
      ],
      "metadata": {
        "id": "5Mg5JVDJt8Jo",
        "colab": {
          "base_uri": "https://localhost:8080/",
          "height": 36
        },
        "outputId": "25940c23-b998-4d69-8958-ec981b5012cf"
      },
      "execution_count": 29,
      "outputs": [
        {
          "output_type": "execute_result",
          "data": {
            "text/plain": [
              "'C'"
            ],
            "application/vnd.google.colaboratory.intrinsic+json": {
              "type": "string"
            }
          },
          "metadata": {},
          "execution_count": 29
        }
      ]
    },
    {
      "cell_type": "code",
      "source": [
        "# Run this cell!\n",
        "\n",
        "bootcamp[-1]"
      ],
      "metadata": {
        "id": "TR35TKKet8Hr",
        "colab": {
          "base_uri": "https://localhost:8080/",
          "height": 36
        },
        "outputId": "9dbd9b29-c430-4339-d736-e4d0a4de0089"
      },
      "execution_count": 30,
      "outputs": [
        {
          "output_type": "execute_result",
          "data": {
            "text/plain": [
              "'e'"
            ],
            "application/vnd.google.colaboratory.intrinsic+json": {
              "type": "string"
            }
          },
          "metadata": {},
          "execution_count": 30
        }
      ]
    },
    {
      "cell_type": "code",
      "source": [
        "# Run this cell!\n",
        "\n",
        "bootcamp[:6]"
      ],
      "metadata": {
        "id": "HXjD_XP-t8Fi",
        "colab": {
          "base_uri": "https://localhost:8080/",
          "height": 36
        },
        "outputId": "104209b5-42ce-4aa1-94bc-9a32e4bab124"
      },
      "execution_count": 31,
      "outputs": [
        {
          "output_type": "execute_result",
          "data": {
            "text/plain": [
              "'Coding'"
            ],
            "application/vnd.google.colaboratory.intrinsic+json": {
              "type": "string"
            }
          },
          "metadata": {},
          "execution_count": 31
        }
      ]
    },
    {
      "cell_type": "code",
      "source": [
        "# Run this cell!\n",
        "\n",
        "bootcamp[7:]"
      ],
      "metadata": {
        "id": "PGb1Z1TXvL88",
        "colab": {
          "base_uri": "https://localhost:8080/",
          "height": 36
        },
        "outputId": "0e8c8146-b8c4-45ba-f0c8-7048b3bc66b8"
      },
      "execution_count": 32,
      "outputs": [
        {
          "output_type": "execute_result",
          "data": {
            "text/plain": [
              "'Temple'"
            ],
            "application/vnd.google.colaboratory.intrinsic+json": {
              "type": "string"
            }
          },
          "metadata": {},
          "execution_count": 32
        }
      ]
    },
    {
      "cell_type": "code",
      "source": [
        "# Run this cell!\n",
        "\n",
        "bootcamp[:-1]"
      ],
      "metadata": {
        "id": "32xhYRZHt7fi",
        "colab": {
          "base_uri": "https://localhost:8080/",
          "height": 36
        },
        "outputId": "d64c0189-3f27-4443-c278-badc38694d77"
      },
      "execution_count": 34,
      "outputs": [
        {
          "output_type": "execute_result",
          "data": {
            "text/plain": [
              "'Coding Templ'"
            ],
            "application/vnd.google.colaboratory.intrinsic+json": {
              "type": "string"
            }
          },
          "metadata": {},
          "execution_count": 34
        }
      ]
    },
    {
      "cell_type": "code",
      "source": [
        "# Run this cell!\n",
        "\n",
        "bootcamp[::-1]"
      ],
      "metadata": {
        "id": "Vx-hfqAXvB1M",
        "colab": {
          "base_uri": "https://localhost:8080/",
          "height": 36
        },
        "outputId": "2b1c4c10-52a4-48b8-edd3-d73afc4d57ba"
      },
      "execution_count": 35,
      "outputs": [
        {
          "output_type": "execute_result",
          "data": {
            "text/plain": [
              "'elpmeT gnidoC'"
            ],
            "application/vnd.google.colaboratory.intrinsic+json": {
              "type": "string"
            }
          },
          "metadata": {},
          "execution_count": 35
        }
      ]
    },
    {
      "cell_type": "code",
      "source": [
        "# Run this cell!\n",
        "\n",
        "bootcamp[1:10:2]"
      ],
      "metadata": {
        "id": "sY1zIHTpvF9r",
        "colab": {
          "base_uri": "https://localhost:8080/",
          "height": 36
        },
        "outputId": "fe090d58-6d25-4d42-b55c-354affa5f203"
      },
      "execution_count": 36,
      "outputs": [
        {
          "output_type": "execute_result",
          "data": {
            "text/plain": [
              "'oigTm'"
            ],
            "application/vnd.google.colaboratory.intrinsic+json": {
              "type": "string"
            }
          },
          "metadata": {},
          "execution_count": 36
        }
      ]
    }
  ],
  "metadata": {
    "anaconda-cloud": {},
    "colab": {
      "provenance": [],
      "include_colab_link": true
    },
    "kernelspec": {
      "display_name": "Python 3 (ipykernel)",
      "language": "python",
      "name": "python3"
    },
    "language_info": {
      "codemirror_mode": {
        "name": "ipython",
        "version": 3
      },
      "file_extension": ".py",
      "mimetype": "text/x-python",
      "name": "python",
      "nbconvert_exporter": "python",
      "pygments_lexer": "ipython3",
      "version": "3.11.7"
    }
  },
  "nbformat": 4,
  "nbformat_minor": 0
}